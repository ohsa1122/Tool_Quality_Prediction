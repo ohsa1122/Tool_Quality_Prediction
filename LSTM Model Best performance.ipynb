{
 "cells": [
  {
   "cell_type": "code",
   "execution_count": 5,
   "metadata": {
    "id": "Wd0NFwMESSLm"
   },
   "outputs": [],
   "source": [
    "from os import listdir\n",
    "from os.path import join\n",
    "from scipy import io\n",
    "import pandas as pd\n",
    "import numpy as np\n",
    "from torch.utils.data import Dataset, DataLoader, random_split\n",
    "import pickle\n",
    "import torch\n",
    "import torch.nn as nn\n",
    "import matplotlib.pyplot as plt"
   ]
  },
  {
   "cell_type": "code",
   "execution_count": 6,
   "metadata": {
    "id": "fn1IK1jNZjsa",
    "scrolled": true,
    "tags": []
   },
   "outputs": [
    {
     "data": {
      "text/plain": [
       "device(type='cuda')"
      ]
     },
     "execution_count": 6,
     "metadata": {},
     "output_type": "execute_result"
    }
   ],
   "source": [
    "device = torch.device('cuda' if torch.cuda.is_available() else 'cpu')\n",
    "device"
   ]
  },
  {
   "cell_type": "code",
   "execution_count": 7,
   "metadata": {
    "id": "Rkl-o88EeaXT"
   },
   "outputs": [],
   "source": [
    "root_dir_zero = \"/home/osamaazhar/0\"    \n",
    "zero = listdir(root_dir_zero)\n",
    "\n",
    "root_dir_one = \"/home/osamaazhar/1\"\n",
    "one = listdir(root_dir_one)\n",
    "\n",
    "root_dir_two = \"/home/osamaazhar/2\"\n",
    "two = listdir(root_dir_two)\n",
    "\n",
    "root_dir_three = \"/home/osamaazhar/3\"\n",
    "three = listdir(root_dir_three)"
   ]
  },
  {
   "cell_type": "code",
   "execution_count": 8,
   "metadata": {
    "id": "rQzWxvS4Scla"
   },
   "outputs": [],
   "source": [
    "def data_to_dict(file_name, root_dir, condition):\n",
    "    dataframes = []\n",
    "    for sub_dir in file_name:\n",
    "        if 'readme' not in sub_dir:\n",
    "            mat = io.loadmat(join(root_dir, sub_dir))\n",
    "            features = ['AE', 'disp', 'power', 'sound']\n",
    "            feat_dict = {}\n",
    "            for i, feat in enumerate(features):\n",
    "                feat_dict[feat] = mat[\"processed\"][0][0][i].flatten()\n",
    "            dataframes.append(pd.DataFrame(feat_dict, index=np.arange(len(mat[\"processed\"][0][0][0]))))\n",
    "    return dataframes"
   ]
  },
  {
   "cell_type": "code",
   "execution_count": 9,
   "metadata": {
    "id": "qIEp_rohXZGs"
   },
   "outputs": [],
   "source": [
    "all_files = []\n",
    "zero_dict = data_to_dict(zero, root_dir_zero, 0)\n",
    "one_dict = data_to_dict(one, root_dir_one, 1)\n",
    "two_dict = data_to_dict(two, root_dir_two, 2)\n",
    "three_dict = data_to_dict(three, root_dir_three, 3)\n",
    "all_files.append(zero_dict)\n",
    "all_files.append(one_dict)\n",
    "all_files.append(two_dict)\n",
    "all_files.append(three_dict)"
   ]
  },
  {
   "cell_type": "code",
   "execution_count": 10,
   "metadata": {
    "id": "-ddUYCalNGlu",
    "scrolled": true
   },
   "outputs": [
    {
     "name": "stdout",
     "output_type": "stream",
     "text": [
      "200\n"
     ]
    }
   ],
   "source": [
    "data = []\n",
    "for i, f in enumerate(all_files):\n",
    "    for df in f:\n",
    "            data.append([df[:100000], i])\n",
    "print(len(data))\n",
    "\n",
    "# for i in range(len(data)):\n",
    "#     print(len(data[i][0]))"
   ]
  },
  {
   "cell_type": "code",
   "execution_count": 11,
   "metadata": {
    "id": "LKh19tr7NToa"
   },
   "outputs": [],
   "source": [
    "class TSdata(Dataset):\n",
    "    def __init__(self, data, downsampling_factor, lists_ratio=1):\n",
    "        self.x = []\n",
    "        self.y = []\n",
    "        self.data = data\n",
    "        self.downsampling_factor = downsampling_factor\n",
    "        self.lists_ratio = lists_ratio\n",
    "        self.data_to_tensor()\n",
    "    \n",
    "    def data_to_tensor(self):\n",
    "        \"\"\"Not a fast implementation\n",
    "            but works for the purposes\n",
    "            of this project\"\"\"\n",
    "        for index in range(len(self.data)):\n",
    "            df = self.data[index][0]\n",
    "            if self.lists_ratio == 1:\n",
    "                for sample_offset in range(self.downsampling_factor):\n",
    "                    self.y.append(torch.tensor(self.data[index][1], dtype = torch.long))\n",
    "                    self.x.append(torch.tensor(df[[\"AE\", \"disp\", \"power\", \"sound\"]]\n",
    "                                          .values[sample_offset::self.downsampling_factor],\n",
    "                                          dtype = torch.double))\n",
    "            else:\n",
    "                for _ in range(int(self.downsampling_factor * self.lists_ratio)):\n",
    "                    sample_offset = torch.randint(0, self.downsampling_factor, ()).item()\n",
    "                    self.y.append(torch.tensor(self.data[index][1], dtype = torch.long))\n",
    "                    self.x.append(torch.tensor(df[[\"AE\", \"disp\", \"power\", \"sound\"]]\n",
    "                                          .values[sample_offset::self.downsampling_factor],\n",
    "                                          dtype = torch.double))\n",
    "                    \n",
    "        \n",
    "        \n",
    "    def __getitem__(self, index):\n",
    "        return [self.x[index], self.y[index]]\n",
    "    \n",
    "    def __len__(self):\n",
    "        return len(self.y)"
   ]
  },
  {
   "cell_type": "markdown",
   "metadata": {
    "tags": []
   },
   "source": [
    "## Dataset/Dataloader Configuration"
   ]
  },
  {
   "cell_type": "code",
   "execution_count": 14,
   "metadata": {},
   "outputs": [
    {
     "name": "stdout",
     "output_type": "stream",
     "text": [
      "340\n"
     ]
    }
   ],
   "source": [
    "batch_size = 10\n",
    "input_size = 4\n",
    "seq_len = 1000\n",
    "num_layers = 4\n",
    "hidden_size = 32\n",
    "num_classes = 4\n",
    "learning_rate = 2e-3\n",
    "num_epochs = 50\n",
    "downsampling = 100\n",
    "lists_ratio = 0.2\n",
    "\n",
    "train_data, test_data = random_split(data, [170, 30])\n",
    "train_dataset = TSdata(train_data, downsampling_factor=downsampling, lists_ratio=lists_ratio)\n",
    "test_dataset  = TSdata(test_data, downsampling_factor=downsampling, lists_ratio=lists_ratio)\n",
    "train_loader = DataLoader(train_dataset, batch_size, shuffle = True)\n",
    "test_loader  = DataLoader(test_dataset,  batch_size, shuffle = True)\n",
    "\n",
    "print(len(train_loader))"
   ]
  },
  {
   "cell_type": "markdown",
   "metadata": {},
   "source": [
    "# LSTM "
   ]
  },
  {
   "cell_type": "code",
   "execution_count": 15,
   "metadata": {
    "id": "MY58vSPuNbcc"
   },
   "outputs": [],
   "source": [
    "class LSTM(nn.Module):\n",
    "    def __init__(self, input_size, hidden_size, num_layers, num_classes, device):\n",
    "        super(LSTM,self).__init__()\n",
    "        self.num_layers = num_layers\n",
    "        self.hidden_size = hidden_size\n",
    "        self.rnn = nn.LSTM(input_size, hidden_size, num_layers, batch_first = True).to(device)\n",
    "        #x -> (batch_size, seq_len, input_size)\n",
    "        self.fc = nn.Linear(hidden_size, num_classes).to(device)\n",
    "    \n",
    "    def forward(self,x):\n",
    "        \n",
    "        x = x.double()\n",
    "        h0 = torch.zeros(self.num_layers, batch_size, self.hidden_size, device=device).double()\n",
    "        c0 = torch.zeros(self.num_layers, batch_size, self.hidden_size, device=device).double()\n",
    "\n",
    "        \n",
    "        out, _ = self.rnn(x, (h0, c0))\n",
    "        \n",
    "        #out ->  (batch_size, seq_len, hidden_size)\n",
    "        \n",
    "        out = out[: , -1, :]\n",
    "        \n",
    "        # out -> (batch_size, hidden_size)\n",
    "        \n",
    "        out = self.fc(out)\n",
    "        \n",
    "        return out"
   ]
  },
  {
   "cell_type": "code",
   "execution_count": 16,
   "metadata": {
    "id": "2CHH7SoKNdw1"
   },
   "outputs": [],
   "source": [
    "model = LSTM(input_size, hidden_size, num_layers, num_classes, device=device).double()\n",
    "\n",
    "criterion = nn.CrossEntropyLoss()\n",
    "optimizer = torch.optim.Adam(model.parameters(), lr = learning_rate)"
   ]
  },
  {
   "cell_type": "code",
   "execution_count": null,
   "metadata": {
    "colab": {
     "base_uri": "https://urldefense.com/v3/__https://localhost:8080/__;!!DZ3fjg!-6bSVgyp2jiCIP1H91tN2uEG4IZdaNDmsHXb2MoCNhuCkF0mZsB6ks8IJ_FpYlbPuAvWHhHBInbtVbXFclo$ ",
     "height": 1000
    },
    "id": "yUN-Vh8zNiFM",
    "outputId": "7ea7a1d1-023f-4730-89ff-a4da921074df"
   },
   "outputs": [
    {
     "name": "stdout",
     "output_type": "stream",
     "text": [
      "trained on epoch #1, avg_train_loss: 1.3738839472195208, avg_train_acc: 0.2802941176470588\n",
      "tested on epoch #1, avg_val_loss: 1.1821202976904133, avg_test_acc:0.6000000000000001\n",
      "epoch [1 / 50], Step [60/ 340], Loss: 1.17507293888143, Val Loss: 1.2076421507255712\n",
      "trained on epoch #2, avg_train_loss: 1.1176861726986984, avg_train_acc: 0.48970588235294116\n",
      "tested on epoch #2, avg_val_loss: 1.1961285568455702, avg_test_acc:0.5\n",
      "epoch [2 / 50], Step [60/ 340], Loss: 1.2170874203722826, Val Loss: 1.57286754464495\n",
      "trained on epoch #3, avg_train_loss: 1.0723849281714743, avg_train_acc: 0.49470588235294116\n",
      "tested on epoch #3, avg_val_loss: 1.0833548856556683, avg_test_acc:0.39999999999999986\n",
      "epoch [3 / 50], Step [60/ 340], Loss: 1.3621054551998726, Val Loss: 0.8828254833655802\n",
      "trained on epoch #4, avg_train_loss: 1.04537062717232, avg_train_acc: 0.5194117647058824\n",
      "tested on epoch #4, avg_val_loss: 1.3982782483428409, avg_test_acc:0.39999999999999986\n",
      "epoch [4 / 50], Step [60/ 340], Loss: 1.243913383346653, Val Loss: 1.842660017918158\n",
      "trained on epoch #5, avg_train_loss: 0.9626743154881002, avg_train_acc: 0.5558823529411765\n",
      "tested on epoch #5, avg_val_loss: 0.6473016641970435, avg_test_acc:0.7000000000000003\n",
      "epoch [5 / 50], Step [60/ 340], Loss: 1.278174974835157, Val Loss: 0.5463603814037639\n",
      "trained on epoch #6, avg_train_loss: 0.7862156230256696, avg_train_acc: 0.63\n",
      "tested on epoch #6, avg_val_loss: 0.5860586589060554, avg_test_acc:0.5\n",
      "epoch [6 / 50], Step [60/ 340], Loss: 0.8600307719104366, Val Loss: 0.0905397928235085\n",
      "trained on epoch #7, avg_train_loss: 0.6978589717921388, avg_train_acc: 0.7052941176470588\n",
      "tested on epoch #7, avg_val_loss: 0.9821007998874496, avg_test_acc:0.5\n",
      "epoch [7 / 50], Step [60/ 340], Loss: 1.2176824891309663, Val Loss: 1.0270768231793723\n",
      "trained on epoch #8, avg_train_loss: 0.7257137339252999, avg_train_acc: 0.6608823529411765\n",
      "tested on epoch #8, avg_val_loss: 0.5300548108275167, avg_test_acc:0.7999999999999997\n",
      "epoch [8 / 50], Step [60/ 340], Loss: 0.5779746370284901, Val Loss: 0.502649633733528\n",
      "trained on epoch #9, avg_train_loss: 0.5883321569458045, avg_train_acc: 0.7805882352941176\n",
      "tested on epoch #9, avg_val_loss: 0.3545305601039379, avg_test_acc:0.7999999999999997\n",
      "epoch [9 / 50], Step [60/ 340], Loss: 0.39463703439793857, Val Loss: 0.13909759826560705\n",
      "trained on epoch #10, avg_train_loss: 0.55533297712663, avg_train_acc: 0.7947058823529413\n",
      "tested on epoch #10, avg_val_loss: 0.297052963296051, avg_test_acc:0.7000000000000003\n",
      "epoch [10 / 50], Step [60/ 340], Loss: 0.6906174223489202, Val Loss: 0.12131700920273018\n",
      "trained on epoch #11, avg_train_loss: 0.4530562609627934, avg_train_acc: 0.831764705882353\n",
      "tested on epoch #11, avg_val_loss: 0.239210667758779, avg_test_acc:0.9\n",
      "epoch [11 / 50], Step [60/ 340], Loss: 0.22173951197565378, Val Loss: 0.27388133554328403\n",
      "trained on epoch #12, avg_train_loss: 0.3524027746420447, avg_train_acc: 0.8782352941176471\n",
      "tested on epoch #12, avg_val_loss: 0.26409465879089217, avg_test_acc:1.0\n",
      "epoch [12 / 50], Step [60/ 340], Loss: 0.06465234937162731, Val Loss: 0.6660614418201725\n",
      "trained on epoch #13, avg_train_loss: 0.26466624994363375, avg_train_acc: 0.9135294117647059\n",
      "tested on epoch #13, avg_val_loss: 0.1430664483316001, avg_test_acc:0.9\n",
      "epoch [13 / 50], Step [60/ 340], Loss: 0.4243432655410631, Val Loss: 0.019038750625771428\n",
      "trained on epoch #14, avg_train_loss: 0.22835552985730612, avg_train_acc: 0.9241176470588235\n",
      "tested on epoch #14, avg_val_loss: 0.13393016113091571, avg_test_acc:1.0\n",
      "epoch [14 / 50], Step [60/ 340], Loss: 0.04252915127830366, Val Loss: 0.02839946941539706\n",
      "trained on epoch #15, avg_train_loss: 0.19535020002843775, avg_train_acc: 0.9376470588235296\n",
      "tested on epoch #15, avg_val_loss: 0.0727320532864793, avg_test_acc:1.0\n",
      "epoch [15 / 50], Step [60/ 340], Loss: 0.02738398231900905, Val Loss: 0.027480126848634035\n",
      "trained on epoch #16, avg_train_loss: 0.19072550440686675, avg_train_acc: 0.9408823529411767\n",
      "tested on epoch #16, avg_val_loss: 0.11934908621427769, avg_test_acc:0.9\n",
      "epoch [16 / 50], Step [60/ 340], Loss: 0.2576166708927866, Val Loss: 0.0471302360578173\n",
      "trained on epoch #17, avg_train_loss: 0.13487296216038963, avg_train_acc: 0.9573529411764706\n",
      "tested on epoch #17, avg_val_loss: 0.07828999327717069, avg_test_acc:1.0\n",
      "epoch [17 / 50], Step [60/ 340], Loss: 0.024109099639815713, Val Loss: 0.010627031487256255\n",
      "trained on epoch #18, avg_train_loss: 0.12096903142716448, avg_train_acc: 0.9620588235294119\n",
      "tested on epoch #18, avg_val_loss: 0.05101190437705528, avg_test_acc:1.0\n",
      "epoch [18 / 50], Step [60/ 340], Loss: 0.08163955636923145, Val Loss: 0.031685029529204156\n",
      "trained on epoch #19, avg_train_loss: 0.11696774867658963, avg_train_acc: 0.96\n",
      "tested on epoch #19, avg_val_loss: 0.13980657811775055, avg_test_acc:1.0\n",
      "epoch [19 / 50], Step [60/ 340], Loss: 0.07489320479435443, Val Loss: 0.04517359321115919\n",
      "trained on epoch #20, avg_train_loss: 0.11094647762028614, avg_train_acc: 0.9620588235294119\n",
      "tested on epoch #20, avg_val_loss: 0.032152087009422355, avg_test_acc:1.0\n",
      "epoch [20 / 50], Step [60/ 340], Loss: 0.0065634593268387945, Val Loss: 0.003473758099309654\n",
      "trained on epoch #21, avg_train_loss: 0.09360924861913986, avg_train_acc: 0.9705882352941179\n",
      "tested on epoch #21, avg_val_loss: 0.0515316623004383, avg_test_acc:1.0\n",
      "epoch [21 / 50], Step [60/ 340], Loss: 0.032782676429980076, Val Loss: 0.021391666614544346\n"
     ]
    }
   ],
   "source": [
    "#Training the LSTM:\n",
    "\n",
    "total_train_loss = []\n",
    "\n",
    "total_val_loss = []\n",
    "\n",
    "\n",
    "total_steps = len(train_loader)\n",
    "\n",
    "for epoch in range(num_epochs):\n",
    "    avg_loss = []\n",
    "    avg_acc = []\n",
    "    for i, (signals, label) in enumerate(train_loader):\n",
    "                # forward pass\n",
    "        signals, label = signals.to(device), label.to(device)\n",
    "        outputs = model(signals)\n",
    "        predictions = outputs.argmax(dim=1, keepdim=True).squeeze()\n",
    "        loss = criterion(outputs, label)\n",
    "        #backward and optimization \n",
    "        \n",
    "        optimizer.zero_grad()\n",
    "        loss.backward()\n",
    "        optimizer.step()\n",
    "        \n",
    "        # Accuracy calculation\n",
    "        correct = (predictions == label).sum().item()\n",
    "        train_accuracy = correct/batch_size\n",
    "        #print(train_accuracy)\n",
    "        \n",
    "        avg_loss.append(loss.item())\n",
    "        avg_acc.append(train_accuracy)\n",
    "    \n",
    "    x = np.average(avg_loss)\n",
    "    y = np.average(avg_acc)\n",
    "    total_train_loss.append(x)\n",
    "    \n",
    "    print(f'trained on epoch #{epoch + 1}, avg_train_loss: {x}, avg_train_acc: {y}')\n",
    "        \n",
    "        \n",
    "    \n",
    "    model.eval()\n",
    "    \n",
    "    avg_val_loss = []\n",
    "    avg_test_acc = []\n",
    "    \n",
    "    for i, (signals_test, label_test) in enumerate(test_loader):\n",
    "        signals_test, label_test = signals_test.to(device), label_test.to(device)\n",
    "        output_test = model(signals_test)\n",
    "        \n",
    "        val_loss = criterion(output_test, label_test)\n",
    "        \n",
    "        \n",
    "        avg_val_loss.append(val_loss.item())\n",
    "        \n",
    "         # Accuracy calculation\n",
    "        correct = (predictions == label).sum().item()\n",
    "        test_accuracy = correct/batch_size\n",
    "        \n",
    "        avg_test_acc.append(test_accuracy)\n",
    "        \n",
    "        #print(test_accuracy)\n",
    "    \n",
    "    x1 = np.average(avg_val_loss)\n",
    "    y1 = np.average(avg_test_acc)    \n",
    "    total_val_loss.append(x1)\n",
    "    \n",
    "    print(f'tested on epoch #{epoch + 1}, avg_val_loss: {x1}, avg_test_acc:{y1}')\n",
    "        \n",
    "    model.train()\n",
    "    print(f'epoch [{epoch + 1} / {num_epochs}], Step [{i+1}/ {total_steps}], Loss: {loss.item()}, Val Loss: {val_loss.item()}')\n"
   ]
  },
  {
   "cell_type": "code",
   "execution_count": 18,
   "metadata": {},
   "outputs": [
    {
     "name": "stdout",
     "output_type": "stream",
     "text": [
      "[1.1821202976904133, 1.1961285568455702, 1.0833548856556683, 1.3982782483428409, 0.6473016641970435, 0.5860586589060554, 0.9821007998874496, 0.5300548108275167, 0.3545305601039379, 0.297052963296051, 0.239210667758779, 0.26409465879089217, 0.1430664483316001, 0.13393016113091571, 0.0727320532864793, 0.11934908621427769, 0.07828999327717069, 0.05101190437705528, 0.13980657811775055, 0.032152087009422355, 0.0515316623004383, 0.10452373945020292, 0.09727681716869949, 0.051435986472692576, 0.00856954521291942, 0.03337716209699409, 0.1261551621051809, 0.032167317375387965, 0.013565569170595206, 0.08311658140355108, 0.028585100697156876, 0.02328312891248148, 0.024084758050746287, 0.009750951874208805, 0.00730599533736742, 0.013536220055602316, 0.016505569308047988, 0.012005994652061947, 0.02944823633647403, 0.01586009025015585, 0.1724087217457617, 0.008625094056023562, 0.01382428145642859, 0.015548491762621517, 0.005634816838747348, 0.004077993467703028, 0.00435376327666582, 0.0034801460336297413, 0.003909136486057825, 0.0042094582626594195]\n"
     ]
    },
    {
     "data": {
      "text/plain": [
       "50"
      ]
     },
     "execution_count": 18,
     "metadata": {},
     "output_type": "execute_result"
    }
   ],
   "source": [
    "print(total_val_loss)\n",
    "val_loss = np.around(total_val_loss, decimals = 7) \n",
    "len(total_val_loss)"
   ]
  },
  {
   "cell_type": "code",
   "execution_count": 19,
   "metadata": {},
   "outputs": [
    {
     "name": "stdout",
     "output_type": "stream",
     "text": [
      "[1.3738839472195208, 1.1176861726986984, 1.0723849281714743, 1.04537062717232, 0.9626743154881002, 0.7862156230256696, 0.6978589717921388, 0.7257137339252999, 0.5883321569458045, 0.55533297712663, 0.4530562609627934, 0.3524027746420447, 0.26466624994363375, 0.22835552985730612, 0.19535020002843775, 0.19072550440686675, 0.13487296216038963, 0.12096903142716448, 0.11696774867658963, 0.11094647762028614, 0.09360924861913986, 0.09863530741155875, 0.050397406789603284, 0.057801255542085934, 0.060527481379837336, 0.08156531093697512, 0.04511053408813127, 0.08137829839473422, 0.0414087687460215, 0.08996491163523723, 0.13070133525596908, 0.05747005960947544, 0.06608499747998878, 0.03901429580265126, 0.018320747607966818, 0.03747970079927836, 0.05403579508784559, 0.023674299984748917, 0.00882721597960795, 0.003180983705082564, 0.06395349257214633, 0.06360740858992668, 0.01134632013163838, 0.004202113140692678, 0.0007993301234768968, 0.0004545962538125556, 0.00032406284384027957, 0.0002513228444050862, 0.00019550664010721958, 0.00015482410542377837]\n",
      "[1.3738839e+00 1.1176862e+00 1.0723849e+00 1.0453706e+00 9.6267430e-01\n",
      " 7.8621560e-01 6.9785900e-01 7.2571370e-01 5.8833220e-01 5.5533300e-01\n",
      " 4.5305630e-01 3.5240280e-01 2.6466620e-01 2.2835550e-01 1.9535020e-01\n",
      " 1.9072550e-01 1.3487300e-01 1.2096900e-01 1.1696770e-01 1.1094650e-01\n",
      " 9.3609200e-02 9.8635300e-02 5.0397400e-02 5.7801300e-02 6.0527500e-02\n",
      " 8.1565300e-02 4.5110500e-02 8.1378300e-02 4.1408800e-02 8.9964900e-02\n",
      " 1.3070130e-01 5.7470100e-02 6.6085000e-02 3.9014300e-02 1.8320700e-02\n",
      " 3.7479700e-02 5.4035800e-02 2.3674300e-02 8.8272000e-03 3.1810000e-03\n",
      " 6.3953500e-02 6.3607400e-02 1.1346300e-02 4.2021000e-03 7.9930000e-04\n",
      " 4.5460000e-04 3.2410000e-04 2.5130000e-04 1.9550000e-04 1.5480000e-04]\n"
     ]
    },
    {
     "data": {
      "text/plain": [
       "50"
      ]
     },
     "execution_count": 19,
     "metadata": {},
     "output_type": "execute_result"
    }
   ],
   "source": [
    "print(total_train_loss)\n",
    "train_loss = np.around(total_train_loss, decimals = 7) \n",
    "print(train_loss)\n",
    "len(total_train_loss)"
   ]
  },
  {
   "cell_type": "code",
   "execution_count": 20,
   "metadata": {},
   "outputs": [
    {
     "name": "stdout",
     "output_type": "stream",
     "text": [
      "minimum training loss = 0.0001548\n"
     ]
    },
    {
     "data": {
      "image/png": "[encoded data removed]",
      "text/plain": [
       "<Figure size 640x480 with 1 Axes>"
      ]
     },
     "metadata": {},
     "output_type": "display_data"
    }
   ],
   "source": [
    "print(f'minimum training loss = {np.min(train_loss)}')\n",
    "\n",
    "x = np.array(range(0, num_epochs))\n",
    "plt.scatter(x, train_loss)\n",
    "plt.title(\"Training Accuracy in LSTM with Augmentation\")\n",
    "plt.xlabel(\"Number of Epochs\")\n",
    "plt.ylabel(\"Training Accuracy\")\n",
    "\n",
    "plt.show()"
   ]
  },
  {
   "cell_type": "code",
   "execution_count": 21,
   "metadata": {},
   "outputs": [
    {
     "name": "stdout",
     "output_type": "stream",
     "text": [
      "minimum validation loss = 0.0034801\n"
     ]
    },
    {
     "data": {
      "image/png": "[encoded data removed]",
      "text/plain": [
       "<Figure size 640x480 with 1 Axes>"
      ]
     },
     "metadata": {},
     "output_type": "display_data"
    }
   ],
   "source": [
    "print(f'minimum validation loss = {np.min(val_loss)}')\n",
    "\n",
    "x1 = np.array(range(0, num_epochs))\n",
    "plt.title(\"Validation Accuracy in LSTM with Augmentation\")\n",
    "plt.xlabel(\"Number of Epochs\")\n",
    "plt.ylabel(\"Validation Accuracy\")\n",
    "plt.scatter(x1, val_loss)\n",
    "plt.show()"
   ]
  },
  {
   "cell_type": "code",
   "execution_count": 35,
   "metadata": {},
   "outputs": [
    {
     "name": "stdout",
     "output_type": "stream",
     "text": [
      "<torch._C.Generator object at 0x7fff0074a710>\n"
     ]
    }
   ],
   "source": [
    "print(torch.manual_seed(6))"
   ]
  }
 ],
 "metadata": {
  "accelerator": "GPU",
  "colab": {
   "collapsed_sections": [],
   "machine_shape": "hm",
   "name": "osama2.ipynb",
   "provenance": []
  },
  "gpuClass": "standard",
  "kernelspec": {
   "display_name": "Python 3",
   "language": "python",
   "name": "python3"
  },
  "language_info": {
   "codemirror_mode": {
    "name": "ipython",
    "version": 3
   },
   "file_extension": ".py",
   "mimetype": "text/x-python",
   "name": "python",
   "nbconvert_exporter": "python",
   "pygments_lexer": "ipython3",
   "version": "3.8.8"
  }
 },
 "nbformat": 4,
 "nbformat_minor": 4
}
